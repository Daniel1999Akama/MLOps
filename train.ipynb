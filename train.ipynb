{
 "cells": [
  {
   "cell_type": "markdown",
   "id": "424c7095",
   "metadata": {},
   "source": []
  },
  {
   "cell_type": "markdown",
   "id": "4ac68d5d-eb34-4c80-b367-7077f5f46657",
   "metadata": {},
   "source": [
    "## MLOps WEEK 1: git and github"
   ]
  },
  {
   "cell_type": "code",
   "execution_count": 2,
   "id": "ff0370b6-44a6-4206-918c-cd28ea71e234",
   "metadata": {
    "vscode": {
     "languageId": "r"
    }
   },
   "outputs": [
    {
     "name": "stdout",
     "output_type": "stream",
     "text": [
      "[1] \"5 + 3 = 8\"\n"
     ]
    }
   ],
   "source": [
    "x <- 5 + 3\n",
    "print(paste(\"5 + 3 =\", x))"
   ]
  },
  {
   "cell_type": "code",
   "execution_count": null,
   "id": "d9c06e37-d3d8-4cca-bd6a-f38be85f25d7",
   "metadata": {
    "vscode": {
     "languageId": "r"
    }
   },
   "outputs": [],
   "source": [
    "data = load_iris() # creating an instance\n",
    "x, y = data.data, data.target"
   ]
  },
  {
   "cell_type": "code",
   "execution_count": null,
   "id": "a01b5513-8bcd-4742-ba1c-1170d2d4dc83",
   "metadata": {
    "vscode": {
     "languageId": "r"
    }
   },
   "outputs": [
    {
     "name": "stdout",
     "output_type": "stream",
     "text": [
      "model trained successfully\n"
     ]
    }
   ],
   "source": [
    "# fitting the model\n",
    "model = LogisticRegression(max_iter=200)\n",
    "model.fit(x,y)\n",
    "print(\"model trained successfully\")"
   ]
  },
  {
   "cell_type": "code",
   "execution_count": null,
   "id": "b143bc54-19d3-4e78-9d4c-dace2f5ed1ef",
   "metadata": {
    "vscode": {
     "languageId": "r"
    }
   },
   "outputs": [],
   "source": []
  }
 ],
 "metadata": {
  "kernelspec": {
   "display_name": "R",
   "language": "R",
   "name": "ir"
  },
  "language_info": {
   "codemirror_mode": "r",
   "file_extension": ".r",
   "mimetype": "text/x-r-source",
   "name": "R",
   "pygments_lexer": "r",
   "version": "4.5.1"
  }
 },
 "nbformat": 4,
 "nbformat_minor": 5
}
