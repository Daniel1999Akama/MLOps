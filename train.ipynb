{
 "cells": [
  {
   "cell_type": "markdown",
   "id": "4ac68d5d-eb34-4c80-b367-7077f5f46657",
   "metadata": {},
   "source": [
    "## MLOps WEEK 1: git and github"
   ]
  },
  {
   "cell_type": "code",
   "execution_count": 1,
   "id": "ff0370b6-44a6-4206-918c-cd28ea71e234",
   "metadata": {},
   "outputs": [],
   "source": [
    "from sklearn.datasets import load_iris\n",
    "from sklearn.linear_model import LogisticRegression\n",
    "from sklearn.metrics import accuracy_score"
   ]
  },
  {
   "cell_type": "code",
   "execution_count": 3,
   "id": "d9c06e37-d3d8-4cca-bd6a-f38be85f25d7",
   "metadata": {},
   "outputs": [],
   "source": [
    "data = load_iris() # creating an instance\n",
    "x, y = data.data, data.target"
   ]
  },
  {
   "cell_type": "code",
   "execution_count": 4,
   "id": "a01b5513-8bcd-4742-ba1c-1170d2d4dc83",
   "metadata": {},
   "outputs": [
    {
     "name": "stdout",
     "output_type": "stream",
     "text": [
      "model trained successfully\n"
     ]
    }
   ],
   "source": [
    "# fitting the model\n",
    "model = LogisticRegression(max_iter=200)\n",
    "model.fit(x,y)\n",
    "print(\"model trained successfully\")"
   ]
  },
  {
   "cell_type": "code",
   "execution_count": 5,
   "id": "b143bc54-19d3-4e78-9d4c-dace2f5ed1ef",
   "metadata": {},
   "outputs": [
    {
     "name": "stdout",
     "output_type": "stream",
     "text": [
      "Accuracy: 0.9733333333333334\n"
     ]
    }
   ],
   "source": [
    "# evaluation\n",
    "y_preds = model.predict(x)\n",
    "print(\"Accuracy:\", accuracy_score(y, y_preds))"
   ]
  },
  {
   "cell_type": "code",
   "execution_count": null,
   "id": "abe57ca0-3c6a-4fcd-9f14-eb7054f71d3f",
   "metadata": {},
   "outputs": [],
   "source": []
  }
 ],
 "metadata": {
  "kernelspec": {
   "display_name": "Python 3 (ipykernel)",
   "language": "python",
   "name": "python3"
  },
  "language_info": {
   "codemirror_mode": {
    "name": "ipython",
    "version": 3
   },
   "file_extension": ".py",
   "mimetype": "text/x-python",
   "name": "python",
   "nbconvert_exporter": "python",
   "pygments_lexer": "ipython3",
   "version": "3.12.5"
  }
 },
 "nbformat": 4,
 "nbformat_minor": 5
}
